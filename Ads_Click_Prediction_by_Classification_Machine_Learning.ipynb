{
 "cells": [
  {
   "cell_type": "markdown",
   "id": "3d38aa6e-31ee-4211-9bca-faab2dd57daa",
   "metadata": {},
   "source": [
    "# Ads Click Prediction by Classification Machine Learning"
   ]
  },
  {
   "cell_type": "markdown",
   "id": "665b8d0d-57ad-498c-ac51-74ae0599a125",
   "metadata": {},
   "source": [
    "We will use machine learning modeling to predict potential users in digital advertising on this occasion.\n",
    "\n",
    "The business team wishes to improve their digital advertising methods in order to entice potential customers to click on a product. So that the cost incurred is not excessive.\n",
    "\n",
    "The goal is to develop a machine learning model capable of detecting potential users who are likely to convert or be interested in an advertisement. So that we can reduce advertising costs on digital platforms."
   ]
  },
  {
   "cell_type": "markdown",
   "id": "bd796931-434b-429c-aa84-58206ef2fa25",
   "metadata": {},
   "source": [
    "Dataset: https://www.kaggle.com/datasets/mafrojaakter/ad-click-data"
   ]
  },
  {
   "cell_type": "markdown",
   "id": "c425f153-047d-43d1-a957-5134b9e29743",
   "metadata": {},
   "source": [
    "## Libraries"
   ]
  },
  {
   "cell_type": "code",
   "execution_count": 2,
   "id": "0378455e-9017-49ec-ad57-932b0960e1ca",
   "metadata": {},
   "outputs": [],
   "source": [
    "import pandas as pd\n",
    "import numpy as np\n",
    "\n",
    "import matplotlib.pyplot as plt\n",
    "import seaborn as sns\n",
    "\n",
    "from datetime import datetime as dt\n",
    "\n",
    "from sklearn.model_selection import train_test_split\n",
    "\n",
    "from sklearn.neighbors import KNeighborsClassifier\n",
    "from sklearn.linear_model import LogisticRegression\n",
    "from sklearn.tree import DecisionTreeClassifier\n",
    "from sklearn.ensemble import RandomForestClassifier, GradientBoostingClassifier\n",
    "\n",
    "from sklearn.metrics import accuracy_score, recall_score, precision_score\n",
    "from sklearn.metrics import confusion_matrix,ConfusionMatrixDisplay\n",
    "\n",
    "from collections import defaultdict\n",
    "# import ppscore as pps\n",
    "\n",
    "from warnings import filterwarnings\n",
    "filterwarnings('ignore')"
   ]
  },
  {
   "cell_type": "code",
   "execution_count": 3,
   "id": "070724b1-6ba5-42ba-9a74-10ad6f1c3438",
   "metadata": {},
   "outputs": [
    {
     "name": "stdout",
     "output_type": "stream",
     "text": [
      "Collecting ppscore\n",
      "  Downloading ppscore-1.3.0.tar.gz (17 kB)\n",
      "  Preparing metadata (setup.py): started\n",
      "  Preparing metadata (setup.py): finished with status 'done'\n",
      "Requirement already satisfied: pandas<2.0.0,>=1.0.0 in c:\\users\\ahmad\\anaconda3\\lib\\site-packages (from ppscore) (1.4.2)\n",
      "Requirement already satisfied: scikit-learn<2.0.0,>=0.20.2 in c:\\users\\ahmad\\anaconda3\\lib\\site-packages (from ppscore) (1.0.2)\n",
      "Requirement already satisfied: numpy>=1.18.5 in c:\\users\\ahmad\\anaconda3\\lib\\site-packages (from pandas<2.0.0,>=1.0.0->ppscore) (1.22.3)\n",
      "Requirement already satisfied: pytz>=2020.1 in c:\\users\\ahmad\\anaconda3\\lib\\site-packages (from pandas<2.0.0,>=1.0.0->ppscore) (2021.3)\n",
      "Requirement already satisfied: python-dateutil>=2.8.1 in c:\\users\\ahmad\\anaconda3\\lib\\site-packages (from pandas<2.0.0,>=1.0.0->ppscore) (2.8.2)\n",
      "Requirement already satisfied: joblib>=0.11 in c:\\users\\ahmad\\anaconda3\\lib\\site-packages (from scikit-learn<2.0.0,>=0.20.2->ppscore) (1.1.0)\n",
      "Requirement already satisfied: threadpoolctl>=2.0.0 in c:\\users\\ahmad\\anaconda3\\lib\\site-packages (from scikit-learn<2.0.0,>=0.20.2->ppscore) (2.2.0)\n",
      "Requirement already satisfied: scipy>=1.1.0 in c:\\users\\ahmad\\anaconda3\\lib\\site-packages (from scikit-learn<2.0.0,>=0.20.2->ppscore) (1.7.3)\n",
      "Requirement already satisfied: six>=1.5 in c:\\users\\ahmad\\anaconda3\\lib\\site-packages (from python-dateutil>=2.8.1->pandas<2.0.0,>=1.0.0->ppscore) (1.16.0)\n",
      "Building wheels for collected packages: ppscore\n",
      "  Building wheel for ppscore (setup.py): started\n",
      "  Building wheel for ppscore (setup.py): finished with status 'done'\n",
      "  Created wheel for ppscore: filename=ppscore-1.3.0-py2.py3-none-any.whl size=13167 sha256=a59228c35efadc612128739b0918502fd0c0666d9fe7f1f3cfa6da4992fff5a1\n",
      "  Stored in directory: c:\\users\\ahmad\\appdata\\local\\pip\\cache\\wheels\\d8\\2d\\fc\\c1699298a1241684a460b125835f7871ee8e3ab3afea9b5d6f\n",
      "Successfully built ppscore\n",
      "Installing collected packages: ppscore\n",
      "Successfully installed ppscore-1.3.0\n",
      "\n",
      "[notice] A new release of pip available: 22.2.2 -> 23.0\n",
      "[notice] To update, run: python.exe -m pip install --upgrade pip\n"
     ]
    }
   ],
   "source": [
    "# You need to install library ppscore to calculate correlation between variable\n",
    "!pip install -U ppscore"
   ]
  },
  {
   "cell_type": "code",
   "execution_count": 4,
   "id": "ec50373b-cb9d-4c7b-9e80-cb9c23008ce4",
   "metadata": {},
   "outputs": [],
   "source": [
    "import ppscore as pps"
   ]
  },
  {
   "cell_type": "markdown",
   "id": "4f85b357-2893-49da-bcd0-703ccc8e4329",
   "metadata": {},
   "source": [
    "## Load Data"
   ]
  },
  {
   "cell_type": "code",
   "execution_count": 11,
   "id": "0088f9a1-7f66-4179-b798-350a299c6f3c",
   "metadata": {
    "tags": []
   },
   "outputs": [
    {
     "data": {
      "text/html": [
       "<div>\n",
       "<style scoped>\n",
       "    .dataframe tbody tr th:only-of-type {\n",
       "        vertical-align: middle;\n",
       "    }\n",
       "\n",
       "    .dataframe tbody tr th {\n",
       "        vertical-align: top;\n",
       "    }\n",
       "\n",
       "    .dataframe thead th {\n",
       "        text-align: right;\n",
       "    }\n",
       "</style>\n",
       "<table border=\"1\" class=\"dataframe\">\n",
       "  <thead>\n",
       "    <tr style=\"text-align: right;\">\n",
       "      <th></th>\n",
       "      <th>Daily Time Spent on Site</th>\n",
       "      <th>Age</th>\n",
       "      <th>Area Income</th>\n",
       "      <th>Daily Internet Usage</th>\n",
       "      <th>Ad Topic Line</th>\n",
       "      <th>City</th>\n",
       "      <th>Gender</th>\n",
       "      <th>Country</th>\n",
       "      <th>Timestamp</th>\n",
       "      <th>Clicked on Ad</th>\n",
       "    </tr>\n",
       "  </thead>\n",
       "  <tbody>\n",
       "    <tr>\n",
       "      <th>0</th>\n",
       "      <td>68.95</td>\n",
       "      <td>35</td>\n",
       "      <td>61833.90</td>\n",
       "      <td>256.09</td>\n",
       "      <td>Cloned 5thgeneration orchestration</td>\n",
       "      <td>Wrightburgh</td>\n",
       "      <td>Female</td>\n",
       "      <td>Tunisia</td>\n",
       "      <td>3/27/2016 0:53</td>\n",
       "      <td>No</td>\n",
       "    </tr>\n",
       "    <tr>\n",
       "      <th>1</th>\n",
       "      <td>80.23</td>\n",
       "      <td>31</td>\n",
       "      <td>68441.85</td>\n",
       "      <td>193.77</td>\n",
       "      <td>Monitored national standardization</td>\n",
       "      <td>West Jodi</td>\n",
       "      <td>Male</td>\n",
       "      <td>Nauru</td>\n",
       "      <td>04/04/2016 01:39</td>\n",
       "      <td>No</td>\n",
       "    </tr>\n",
       "    <tr>\n",
       "      <th>2</th>\n",
       "      <td>69.47</td>\n",
       "      <td>26</td>\n",
       "      <td>59785.94</td>\n",
       "      <td>236.50</td>\n",
       "      <td>Organic bottom-line service-desk</td>\n",
       "      <td>Davidton</td>\n",
       "      <td>Female</td>\n",
       "      <td>San Marino</td>\n",
       "      <td>3/13/2016 20:35</td>\n",
       "      <td>No</td>\n",
       "    </tr>\n",
       "    <tr>\n",
       "      <th>3</th>\n",
       "      <td>74.15</td>\n",
       "      <td>29</td>\n",
       "      <td>54806.18</td>\n",
       "      <td>245.89</td>\n",
       "      <td>Triple-buffered reciprocal time-frame</td>\n",
       "      <td>West Terrifurt</td>\n",
       "      <td>Male</td>\n",
       "      <td>Italy</td>\n",
       "      <td>01/10/2016 02:31</td>\n",
       "      <td>No</td>\n",
       "    </tr>\n",
       "    <tr>\n",
       "      <th>4</th>\n",
       "      <td>68.37</td>\n",
       "      <td>35</td>\n",
       "      <td>73889.99</td>\n",
       "      <td>225.58</td>\n",
       "      <td>Robust logistical utilization</td>\n",
       "      <td>South Manuel</td>\n",
       "      <td>Female</td>\n",
       "      <td>Iceland</td>\n",
       "      <td>06/03/2016 03:36</td>\n",
       "      <td>No</td>\n",
       "    </tr>\n",
       "  </tbody>\n",
       "</table>\n",
       "</div>"
      ],
      "text/plain": [
       "   Daily Time Spent on Site  Age  Area Income  Daily Internet Usage  \\\n",
       "0                     68.95   35     61833.90                256.09   \n",
       "1                     80.23   31     68441.85                193.77   \n",
       "2                     69.47   26     59785.94                236.50   \n",
       "3                     74.15   29     54806.18                245.89   \n",
       "4                     68.37   35     73889.99                225.58   \n",
       "\n",
       "                           Ad Topic Line            City  Gender     Country  \\\n",
       "0     Cloned 5thgeneration orchestration     Wrightburgh  Female     Tunisia   \n",
       "1     Monitored national standardization       West Jodi    Male       Nauru   \n",
       "2       Organic bottom-line service-desk        Davidton  Female  San Marino   \n",
       "3  Triple-buffered reciprocal time-frame  West Terrifurt    Male       Italy   \n",
       "4          Robust logistical utilization    South Manuel  Female     Iceland   \n",
       "\n",
       "          Timestamp Clicked on Ad  \n",
       "0    3/27/2016 0:53            No  \n",
       "1  04/04/2016 01:39            No  \n",
       "2   3/13/2016 20:35            No  \n",
       "3  01/10/2016 02:31            No  \n",
       "4  06/03/2016 03:36            No  "
      ]
     },
     "execution_count": 11,
     "metadata": {},
     "output_type": "execute_result"
    }
   ],
   "source": [
    "# define dataframe\n",
    "df = pd.read_csv('Ad Click Data.csv')\n",
    "df.head()"
   ]
  },
  {
   "cell_type": "markdown",
   "id": "fde9c87d-b548-4347-8e12-2eca554c5eb5",
   "metadata": {},
   "source": [
    "## Initial Data Information"
   ]
  },
  {
   "cell_type": "code",
   "execution_count": 13,
   "id": "76c54e64-7050-47e7-b1cd-46e5bc8a0e17",
   "metadata": {},
   "outputs": [
    {
     "name": "stdout",
     "output_type": "stream",
     "text": [
      "<class 'pandas.core.frame.DataFrame'>\n",
      "RangeIndex: 1000 entries, 0 to 999\n",
      "Data columns (total 10 columns):\n",
      " #   Column                    Non-Null Count  Dtype  \n",
      "---  ------                    --------------  -----  \n",
      " 0   Daily Time Spent on Site  987 non-null    float64\n",
      " 1   Age                       1000 non-null   int64  \n",
      " 2   Area Income               987 non-null    float64\n",
      " 3   Daily Internet Usage      989 non-null    float64\n",
      " 4   Ad Topic Line             1000 non-null   object \n",
      " 5   City                      999 non-null    object \n",
      " 6   Gender                    997 non-null    object \n",
      " 7   Country                   991 non-null    object \n",
      " 8   Timestamp                 1000 non-null   object \n",
      " 9   Clicked on Ad             1000 non-null   object \n",
      "dtypes: float64(3), int64(1), object(6)\n",
      "memory usage: 78.2+ KB\n"
     ]
    }
   ],
   "source": [
    "# check data type each column\n",
    "df.info()"
   ]
  },
  {
   "cell_type": "code",
   "execution_count": 14,
   "id": "1c2b375c-c9ed-4d3a-a1c1-da962b8bc3fc",
   "metadata": {},
   "outputs": [
    {
     "data": {
      "text/html": [
       "<div>\n",
       "<style scoped>\n",
       "    .dataframe tbody tr th:only-of-type {\n",
       "        vertical-align: middle;\n",
       "    }\n",
       "\n",
       "    .dataframe tbody tr th {\n",
       "        vertical-align: top;\n",
       "    }\n",
       "\n",
       "    .dataframe thead th {\n",
       "        text-align: right;\n",
       "    }\n",
       "</style>\n",
       "<table border=\"1\" class=\"dataframe\">\n",
       "  <thead>\n",
       "    <tr style=\"text-align: right;\">\n",
       "      <th></th>\n",
       "      <th>Daily Time Spent on Site</th>\n",
       "      <th>Age</th>\n",
       "      <th>Area Income</th>\n",
       "      <th>Daily Internet Usage</th>\n",
       "    </tr>\n",
       "  </thead>\n",
       "  <tbody>\n",
       "    <tr>\n",
       "      <th>count</th>\n",
       "      <td>987.000000</td>\n",
       "      <td>1000.000000</td>\n",
       "      <td>987.000000</td>\n",
       "      <td>989.000000</td>\n",
       "    </tr>\n",
       "    <tr>\n",
       "      <th>mean</th>\n",
       "      <td>64.929524</td>\n",
       "      <td>36.009000</td>\n",
       "      <td>54980.667234</td>\n",
       "      <td>179.863620</td>\n",
       "    </tr>\n",
       "    <tr>\n",
       "      <th>std</th>\n",
       "      <td>15.844699</td>\n",
       "      <td>8.785562</td>\n",
       "      <td>13439.998510</td>\n",
       "      <td>43.870142</td>\n",
       "    </tr>\n",
       "    <tr>\n",
       "      <th>min</th>\n",
       "      <td>32.600000</td>\n",
       "      <td>19.000000</td>\n",
       "      <td>13996.500000</td>\n",
       "      <td>104.780000</td>\n",
       "    </tr>\n",
       "    <tr>\n",
       "      <th>25%</th>\n",
       "      <td>51.270000</td>\n",
       "      <td>29.000000</td>\n",
       "      <td>46947.570000</td>\n",
       "      <td>138.710000</td>\n",
       "    </tr>\n",
       "    <tr>\n",
       "      <th>50%</th>\n",
       "      <td>68.110000</td>\n",
       "      <td>35.000000</td>\n",
       "      <td>57009.760000</td>\n",
       "      <td>182.650000</td>\n",
       "    </tr>\n",
       "    <tr>\n",
       "      <th>75%</th>\n",
       "      <td>78.460000</td>\n",
       "      <td>42.000000</td>\n",
       "      <td>65479.350000</td>\n",
       "      <td>218.790000</td>\n",
       "    </tr>\n",
       "    <tr>\n",
       "      <th>max</th>\n",
       "      <td>91.430000</td>\n",
       "      <td>61.000000</td>\n",
       "      <td>79484.800000</td>\n",
       "      <td>267.010000</td>\n",
       "    </tr>\n",
       "  </tbody>\n",
       "</table>\n",
       "</div>"
      ],
      "text/plain": [
       "       Daily Time Spent on Site          Age   Area Income  \\\n",
       "count                987.000000  1000.000000    987.000000   \n",
       "mean                  64.929524    36.009000  54980.667234   \n",
       "std                   15.844699     8.785562  13439.998510   \n",
       "min                   32.600000    19.000000  13996.500000   \n",
       "25%                   51.270000    29.000000  46947.570000   \n",
       "50%                   68.110000    35.000000  57009.760000   \n",
       "75%                   78.460000    42.000000  65479.350000   \n",
       "max                   91.430000    61.000000  79484.800000   \n",
       "\n",
       "       Daily Internet Usage  \n",
       "count            989.000000  \n",
       "mean             179.863620  \n",
       "std               43.870142  \n",
       "min              104.780000  \n",
       "25%              138.710000  \n",
       "50%              182.650000  \n",
       "75%              218.790000  \n",
       "max              267.010000  "
      ]
     },
     "execution_count": 14,
     "metadata": {},
     "output_type": "execute_result"
    }
   ],
   "source": [
    "# general observation of numerical value from dataset\n",
    "df.describe()"
   ]
  },
  {
   "cell_type": "code",
   "execution_count": 15,
   "id": "74cde48f-51ae-4160-8478-bbb66fc76aaa",
   "metadata": {},
   "outputs": [
    {
     "data": {
      "text/html": [
       "<div>\n",
       "<style scoped>\n",
       "    .dataframe tbody tr th:only-of-type {\n",
       "        vertical-align: middle;\n",
       "    }\n",
       "\n",
       "    .dataframe tbody tr th {\n",
       "        vertical-align: top;\n",
       "    }\n",
       "\n",
       "    .dataframe thead th {\n",
       "        text-align: right;\n",
       "    }\n",
       "</style>\n",
       "<table border=\"1\" class=\"dataframe\">\n",
       "  <thead>\n",
       "    <tr style=\"text-align: right;\">\n",
       "      <th></th>\n",
       "      <th>Ad Topic Line</th>\n",
       "      <th>City</th>\n",
       "      <th>Gender</th>\n",
       "      <th>Country</th>\n",
       "      <th>Timestamp</th>\n",
       "      <th>Clicked on Ad</th>\n",
       "    </tr>\n",
       "  </thead>\n",
       "  <tbody>\n",
       "    <tr>\n",
       "      <th>count</th>\n",
       "      <td>1000</td>\n",
       "      <td>999</td>\n",
       "      <td>997</td>\n",
       "      <td>991</td>\n",
       "      <td>1000</td>\n",
       "      <td>1000</td>\n",
       "    </tr>\n",
       "    <tr>\n",
       "      <th>unique</th>\n",
       "      <td>1000</td>\n",
       "      <td>968</td>\n",
       "      <td>2</td>\n",
       "      <td>237</td>\n",
       "      <td>997</td>\n",
       "      <td>2</td>\n",
       "    </tr>\n",
       "    <tr>\n",
       "      <th>top</th>\n",
       "      <td>Cloned 5thgeneration orchestration</td>\n",
       "      <td>Lisamouth</td>\n",
       "      <td>Female</td>\n",
       "      <td>France</td>\n",
       "      <td>5/26/2016 15:40</td>\n",
       "      <td>No</td>\n",
       "    </tr>\n",
       "    <tr>\n",
       "      <th>freq</th>\n",
       "      <td>1</td>\n",
       "      <td>3</td>\n",
       "      <td>518</td>\n",
       "      <td>9</td>\n",
       "      <td>2</td>\n",
       "      <td>500</td>\n",
       "    </tr>\n",
       "  </tbody>\n",
       "</table>\n",
       "</div>"
      ],
      "text/plain": [
       "                             Ad Topic Line       City  Gender Country  \\\n",
       "count                                 1000        999     997     991   \n",
       "unique                                1000        968       2     237   \n",
       "top     Cloned 5thgeneration orchestration  Lisamouth  Female  France   \n",
       "freq                                     1          3     518       9   \n",
       "\n",
       "              Timestamp Clicked on Ad  \n",
       "count              1000          1000  \n",
       "unique              997             2  \n",
       "top     5/26/2016 15:40            No  \n",
       "freq                  2           500  "
      ]
     },
     "execution_count": 15,
     "metadata": {},
     "output_type": "execute_result"
    }
   ],
   "source": [
    "# general observation of categorical value from dataset\n",
    "df.select_dtypes('object').describe()"
   ]
  },
  {
   "cell_type": "markdown",
   "id": "c12ced28-a27d-44fa-bccc-acaada82260e",
   "metadata": {},
   "source": [
    "## Exploration Data Analysis"
   ]
  },
  {
   "cell_type": "markdown",
   "id": "1eaf0c69-afd2-4c86-8cfe-edce633919ce",
   "metadata": {},
   "source": [
    "### User Distribution"
   ]
  },
  {
   "cell_type": "code",
   "execution_count": 59,
   "id": "849dd791-805b-4aec-981c-43be8bf19992",
   "metadata": {},
   "outputs": [
    {
     "data": {
      "image/png": "[encoded data removed]",
      "text/plain": [
       "<Figure size 576x504 with 1 Axes>"
      ]
     },
     "metadata": {},
     "output_type": "display_data"
    }
   ],
   "source": [
    "counts = df['Clicked on Ad'].value_counts()\n",
    "\n",
    "plt.figure(figsize=(8,7))\n",
    "sns.set_style('whitegrid')\n",
    "sns.barplot(x=counts.index,y=counts)\n",
    "\n",
    "plt.suptitle('Clicked User Distribution')\n",
    "plt.title('Target has balanced class')\n",
    "plt.ylim(0,550)\n",
    "plt.show()"
   ]
  },
  {
   "cell_type": "markdown",
   "id": "62341cdf-96be-4c2d-bbc5-a07dcf7d88bc",
   "metadata": {},
   "source": [
    "luckly the data that we will use turns out to have labels that are quite balanced so we don't need to do further preprocessing to overcome imbalanced classes."
   ]
  },
  {
   "cell_type": "markdown",
   "id": "a4610340-19f5-4b87-ada7-58dcdc1a1e7b",
   "metadata": {},
   "source": [
    "### Distribution for Daily Internet Usage"
   ]
  },
  {
   "cell_type": "code",
   "execution_count": 17,
   "id": "053ca495-1dc0-4fdb-9ebc-c3f43b86b174",
   "metadata": {},
   "outputs": [],
   "source": [
    "yes = df[df['Clicked on Ad'] == 'Yes']\n",
    "no = df[df['Clicked on Ad'] == 'No']"
   ]
  },
  {
   "cell_type": "code",
   "execution_count": 60,
   "id": "ebca8b7e-cc06-46bc-b906-e27763e9cf5b",
   "metadata": {},
   "outputs": [
    {
     "data": {
      "image/png": "[encoded data removed]",
      "text/plain": [
       "<Figure size 504x432 with 1 Axes>"
      ]
     },
     "metadata": {},
     "output_type": "display_data"
    }
   ],
   "source": [
    "plt.figure(figsize=(7,6))\n",
    "sns.set_style('whitegrid')\n",
    "sns.kdeplot(no['Daily Internet Usage'],label='No')\n",
    "sns.kdeplot(yes['Daily Internet Usage'],label='Yes')\n",
    "\n",
    "plt.title('Density Distribution for Daily Internet Usage')\n",
    "plt.legend()\n",
    "plt.show()"
   ]
  },
  {
   "cell_type": "markdown",
   "id": "19dd16c8-35c4-4207-9c36-2e50d22bda4c",
   "metadata": {},
   "source": [
    "We can see the spread of daily internet usage from the EDA above (in minutes). This distribution has a few intriguing items. that consumers who use the internet infrequently have a higher chance of clicking on a product than those who use it regularly.\n",
    "\n",
    "This would suggest that people who use the internet infrequently tend to pay closer attention to website advertisements."
   ]
  },
  {
   "cell_type": "markdown",
   "id": "b9d8d9ae-7e63-452c-a154-3ce2456506c5",
   "metadata": {},
   "source": [
    "### Distribution for Daily Time Spent on Site"
   ]
  },
  {
   "cell_type": "code",
   "execution_count": 61,
   "id": "6c7df55f-ed1d-46f9-8355-2f02bd755075",
   "metadata": {},
   "outputs": [
    {
     "data": {
      "image/png": "[encoded data removed]",
      "text/plain": [
       "<Figure size 504x432 with 1 Axes>"
      ]
     },
     "metadata": {},
     "output_type": "display_data"
    }
   ],
   "source": [
    "plt.figure(figsize=(7,6))\n",
    "\n",
    "sns.set_style('whitegrid')\n",
    "sns.boxplot(x=df['Clicked on Ad'],y=df['Daily Time Spent on Site'])\n",
    "\n",
    "plt.title('Density Distribution for Daily Time Spent on Site')\n",
    "plt.show()"
   ]
  },
  {
   "cell_type": "markdown",
   "id": "b57ee615-5b1f-46a2-b9dd-3512b1cf3911",
   "metadata": {},
   "source": [
    "because there is a distinct distribution of Internet use. We're attempting to demonstrate how a user interacts with a website. It appears from the EDA above that user duration on a website and internet consumption have a similar distribution. In other words, even a brief visit to a website might yield potential users."
   ]
  },
  {
   "cell_type": "markdown",
   "id": "5910abbf-0f35-4715-bc4e-65f210344e74",
   "metadata": {},
   "source": [
    "### Distribution for Age"
   ]
  },
  {
   "cell_type": "code",
   "execution_count": 62,
   "id": "af65283f-1e57-44bf-87ec-cb18217b3097",
   "metadata": {},
   "outputs": [
    {
     "data": {
      "image/png": "[encoded data removed]",
      "text/plain": [
       "<Figure size 504x432 with 1 Axes>"
      ]
     },
     "metadata": {},
     "output_type": "display_data"
    }
   ],
   "source": [
    "plt.figure(figsize=(7,6))\n",
    "\n",
    "sns.set_style('whitegrid')\n",
    "sns.kdeplot(no['Age'],label='No')\n",
    "sns.kdeplot(yes['Age'],label='Yes')\n",
    "\n",
    "plt.title('Density Distribution for Age')\n",
    "plt.legend()\n",
    "plt.show()"
   ]
  },
  {
   "cell_type": "markdown",
   "id": "29635367-39c6-4f81-be1b-64a8d283c390",
   "metadata": {},
   "source": [
    "Age visualization reveals that the senior population is the potential market. Perhaps as a result of the fact that young people are considerably more picky and cautious online. Additionally, young people are quite noticeable when an advertisement is on a website."
   ]
  },
  {
   "cell_type": "markdown",
   "id": "d1a69e16-3627-41ee-beb0-3511b8cae37e",
   "metadata": {},
   "source": [
    "### Internet Usage vs Time Spent on Site"
   ]
  },
  {
   "cell_type": "code",
   "execution_count": 63,
   "id": "4bff329e-0dfe-4f25-a512-6f24b1c43253",
   "metadata": {},
   "outputs": [
    {
     "data": {
      "image/png": "[encoded data removed]",
      "text/plain": [
       "<Figure size 720x504 with 1 Axes>"
      ]
     },
     "metadata": {},
     "output_type": "display_data"
    }
   ],
   "source": [
    "plt.figure(figsize=(10,7))\n",
    "\n",
    "sns.set_style('whitegrid')\n",
    "sns.scatterplot(x=df['Daily Internet Usage'],y=df['Daily Time Spent on Site'],hue=df['Clicked on Ad'])\n",
    "\n",
    "plt.show()"
   ]
  },
  {
   "cell_type": "markdown",
   "id": "a3f0ec28-cf02-40f8-a33c-681ab3b40225",
   "metadata": {},
   "source": [
    "After being aware that internet usage and the amount of time spent on a webpage are identical. We attempt to determine how the two features relate to the target.\n",
    "\n",
    "According to this plot, internet usage and the amount of time spent on a website can be split into two categories: active users and non-active users.\n",
    "\n",
    "These 2 parts may contain elements that have a significant impact on whether someone chooses to click on an advertisement or not. In contrast to inactive users, active users are more likely to dislike clicking on an advertisement, as shown in the visualization above.\n",
    "\n",
    "In conclusion, we can optimize our advertising system for users who are not actively using the internet."
   ]
  },
  {
   "cell_type": "markdown",
   "id": "df2260f8-769e-464d-9bc8-e6b7a818fa8e",
   "metadata": {},
   "source": [
    "## Correlation"
   ]
  },
  {
   "cell_type": "code",
   "execution_count": 25,
   "id": "2312428d-4f6e-40f8-a501-482d0d59587b",
   "metadata": {},
   "outputs": [
    {
     "data": {
      "image/png": "[encoded data removed]",
      "text/plain": [
       "<Figure size 936x720 with 2 Axes>"
      ]
     },
     "metadata": {
      "needs_background": "light"
     },
     "output_type": "display_data"
    }
   ],
   "source": [
    "plt.figure(figsize=(13,10))\n",
    "sns.heatmap(df.corr(),annot=True)\n",
    "plt.show()"
   ]
  },
  {
   "cell_type": "markdown",
   "id": "56494d6d-f5d2-4abd-be3b-fcb6a7ca7772",
   "metadata": {},
   "source": [
    "We can use all of the characteristics for modeling because there is no multicorrelation (correlation between variables) based on the aforementioned correlation. However, we are unable to determine the connection between the feature and the target using Pearson correlation. In order to determine the relationship between features and their targets, we will use PPS (Predictive Power Score) in the sections that follow."
   ]
  },
  {
   "cell_type": "code",
   "execution_count": 26,
   "id": "9790e291-9d0d-4c1c-8263-eac5fe9664ee",
   "metadata": {},
   "outputs": [],
   "source": [
    "df_pps = pps.matrix(df)\n",
    "matrix_df = df_pps[['x', 'y', 'ppscore']].pivot(columns='x', index='y', values='ppscore')"
   ]
  },
  {
   "cell_type": "code",
   "execution_count": 27,
   "id": "0e45dd4c-fdb9-4114-b164-f3a5f50abbf9",
   "metadata": {},
   "outputs": [
    {
     "data": {
      "image/png": "[encoded data removed]",
      "text/plain": [
       "<Figure size 936x720 with 2 Axes>"
      ]
     },
     "metadata": {
      "needs_background": "light"
     },
     "output_type": "display_data"
    }
   ],
   "source": [
    "plt.figure(figsize=(13,10))\n",
    "sns.heatmap(matrix_df, vmin=0, vmax=1, cmap=\"Blues\", linewidths=0.5, annot=True)\n",
    "plt.xlabel(None)\n",
    "plt.ylabel(None)\n",
    "plt.show()"
   ]
  },
  {
   "cell_type": "markdown",
   "id": "ec09b268-b776-4e2b-9113-b29c5f5b753d",
   "metadata": {},
   "source": [
    "We will concentrate solely on the Clicked on Ad feature based on the correlation graphic created earlier using PPS. Since that variable is our intended target, we will use it.\n",
    "\n",
    "Quite relevant characteristics to the target:\n",
    "\n",
    "1. Internet usage every day,\n",
    "2. Age, \n",
    "3. Income Area, and \n",
    "4. Daily Time Spent on Site\n",
    "This correlation graphic can provide as modeling guidance."
   ]
  },
  {
   "cell_type": "markdown",
   "id": "37d67356-3d39-4e33-a492-5a6d233a6164",
   "metadata": {},
   "source": [
    "## Data Preprocessing"
   ]
  },
  {
   "cell_type": "markdown",
   "id": "a4a190b3-e277-43db-a6e7-0d42a0d4a45e",
   "metadata": {},
   "source": [
    "In the case of data preprocessing, we need clean data so that it can be applied to several machine learning models.\n",
    "\n",
    "The steps we need to do are:\n",
    "\n",
    "1. Handle Missing Value\n",
    "2. Extract Datetime Data\n",
    "3. Split Targets and features\n",
    "4. Create One-hot encoding for categorical features"
   ]
  },
  {
   "cell_type": "code",
   "execution_count": 28,
   "id": "1830f5b4-c26b-4e5a-b1e7-cd5fe611b0b0",
   "metadata": {},
   "outputs": [],
   "source": [
    "## UDF for Feature Extraction\n",
    "def extract_day_of_week(time):\n",
    "    return dt.strptime(time,'%m/%d/%Y %H:%M').weekday()\n",
    "\n",
    "def extract_day_of_month(time):\n",
    "    return dt.strptime(time,'%m/%d/%Y %H:%M').day\n",
    "\n",
    "def extract_month(time):\n",
    "    return dt.strptime(time,'%m/%d/%Y %H:%M').month"
   ]
  },
  {
   "cell_type": "markdown",
   "id": "e5ca56d3-42b7-4ac6-ad4b-096833446db9",
   "metadata": {},
   "source": [
    "### Handle Missing Value"
   ]
  },
  {
   "cell_type": "code",
   "execution_count": 30,
   "id": "63141cee-6a8f-4fa1-8658-0f37e46e2bb7",
   "metadata": {},
   "outputs": [],
   "source": [
    "df['Daily Time Spent on Site'].fillna(df['Daily Time Spent on Site'].mean(),inplace=True)\n",
    "df['Area Income'].fillna(df['Area Income'].mean(),inplace=True)\n",
    "df['Daily Internet Usage'].fillna(df['Daily Internet Usage'].mean(),inplace=True)\n",
    "df['Gender'].fillna(df['Gender'].mode()[0],inplace=True)"
   ]
  },
  {
   "cell_type": "markdown",
   "id": "7f7fbcd5-4c92-4bcd-bd5a-8afbe4175809",
   "metadata": {},
   "source": [
    "### Extract Datetime Data"
   ]
  },
  {
   "cell_type": "code",
   "execution_count": 31,
   "id": "7f0cbe39-91d6-40e4-9480-d31d7a6fc9c8",
   "metadata": {},
   "outputs": [],
   "source": [
    "df['day_of_week'] = df['Timestamp'].apply(extract_day_of_week)\n",
    "df['day_of_month'] = df['Timestamp'].apply(extract_day_of_month)\n",
    "df['month'] = df['Timestamp'].apply(extract_month)\n",
    "\n",
    "df = df.drop(labels=['Timestamp'],axis=1)"
   ]
  },
  {
   "cell_type": "code",
   "execution_count": 32,
   "id": "4fe08797-7e23-4595-a3a3-c14da2c3be86",
   "metadata": {},
   "outputs": [
    {
     "data": {
      "text/html": [
       "<div>\n",
       "<style scoped>\n",
       "    .dataframe tbody tr th:only-of-type {\n",
       "        vertical-align: middle;\n",
       "    }\n",
       "\n",
       "    .dataframe tbody tr th {\n",
       "        vertical-align: top;\n",
       "    }\n",
       "\n",
       "    .dataframe thead th {\n",
       "        text-align: right;\n",
       "    }\n",
       "</style>\n",
       "<table border=\"1\" class=\"dataframe\">\n",
       "  <thead>\n",
       "    <tr style=\"text-align: right;\">\n",
       "      <th></th>\n",
       "      <th>Daily Time Spent on Site</th>\n",
       "      <th>Age</th>\n",
       "      <th>Area Income</th>\n",
       "      <th>Daily Internet Usage</th>\n",
       "      <th>Ad Topic Line</th>\n",
       "      <th>City</th>\n",
       "      <th>Gender</th>\n",
       "      <th>Country</th>\n",
       "      <th>Clicked on Ad</th>\n",
       "      <th>day_of_week</th>\n",
       "      <th>day_of_month</th>\n",
       "      <th>month</th>\n",
       "    </tr>\n",
       "  </thead>\n",
       "  <tbody>\n",
       "    <tr>\n",
       "      <th>0</th>\n",
       "      <td>68.95</td>\n",
       "      <td>35</td>\n",
       "      <td>61833.90</td>\n",
       "      <td>256.09</td>\n",
       "      <td>Cloned 5thgeneration orchestration</td>\n",
       "      <td>Wrightburgh</td>\n",
       "      <td>Female</td>\n",
       "      <td>Tunisia</td>\n",
       "      <td>No</td>\n",
       "      <td>6</td>\n",
       "      <td>27</td>\n",
       "      <td>3</td>\n",
       "    </tr>\n",
       "    <tr>\n",
       "      <th>1</th>\n",
       "      <td>80.23</td>\n",
       "      <td>31</td>\n",
       "      <td>68441.85</td>\n",
       "      <td>193.77</td>\n",
       "      <td>Monitored national standardization</td>\n",
       "      <td>West Jodi</td>\n",
       "      <td>Male</td>\n",
       "      <td>Nauru</td>\n",
       "      <td>No</td>\n",
       "      <td>0</td>\n",
       "      <td>4</td>\n",
       "      <td>4</td>\n",
       "    </tr>\n",
       "    <tr>\n",
       "      <th>2</th>\n",
       "      <td>69.47</td>\n",
       "      <td>26</td>\n",
       "      <td>59785.94</td>\n",
       "      <td>236.50</td>\n",
       "      <td>Organic bottom-line service-desk</td>\n",
       "      <td>Davidton</td>\n",
       "      <td>Female</td>\n",
       "      <td>San Marino</td>\n",
       "      <td>No</td>\n",
       "      <td>6</td>\n",
       "      <td>13</td>\n",
       "      <td>3</td>\n",
       "    </tr>\n",
       "    <tr>\n",
       "      <th>3</th>\n",
       "      <td>74.15</td>\n",
       "      <td>29</td>\n",
       "      <td>54806.18</td>\n",
       "      <td>245.89</td>\n",
       "      <td>Triple-buffered reciprocal time-frame</td>\n",
       "      <td>West Terrifurt</td>\n",
       "      <td>Male</td>\n",
       "      <td>Italy</td>\n",
       "      <td>No</td>\n",
       "      <td>6</td>\n",
       "      <td>10</td>\n",
       "      <td>1</td>\n",
       "    </tr>\n",
       "    <tr>\n",
       "      <th>4</th>\n",
       "      <td>68.37</td>\n",
       "      <td>35</td>\n",
       "      <td>73889.99</td>\n",
       "      <td>225.58</td>\n",
       "      <td>Robust logistical utilization</td>\n",
       "      <td>South Manuel</td>\n",
       "      <td>Female</td>\n",
       "      <td>Iceland</td>\n",
       "      <td>No</td>\n",
       "      <td>4</td>\n",
       "      <td>3</td>\n",
       "      <td>6</td>\n",
       "    </tr>\n",
       "  </tbody>\n",
       "</table>\n",
       "</div>"
      ],
      "text/plain": [
       "   Daily Time Spent on Site  Age  Area Income  Daily Internet Usage  \\\n",
       "0                     68.95   35     61833.90                256.09   \n",
       "1                     80.23   31     68441.85                193.77   \n",
       "2                     69.47   26     59785.94                236.50   \n",
       "3                     74.15   29     54806.18                245.89   \n",
       "4                     68.37   35     73889.99                225.58   \n",
       "\n",
       "                           Ad Topic Line            City  Gender     Country  \\\n",
       "0     Cloned 5thgeneration orchestration     Wrightburgh  Female     Tunisia   \n",
       "1     Monitored national standardization       West Jodi    Male       Nauru   \n",
       "2       Organic bottom-line service-desk        Davidton  Female  San Marino   \n",
       "3  Triple-buffered reciprocal time-frame  West Terrifurt    Male       Italy   \n",
       "4          Robust logistical utilization    South Manuel  Female     Iceland   \n",
       "\n",
       "  Clicked on Ad  day_of_week  day_of_month  month  \n",
       "0            No            6            27      3  \n",
       "1            No            0             4      4  \n",
       "2            No            6            13      3  \n",
       "3            No            6            10      1  \n",
       "4            No            4             3      6  "
      ]
     },
     "execution_count": 32,
     "metadata": {},
     "output_type": "execute_result"
    }
   ],
   "source": [
    "df.head()"
   ]
  },
  {
   "cell_type": "markdown",
   "id": "1c1cb267-4bfe-4354-89f8-9809222a5c59",
   "metadata": {},
   "source": [
    "### Split Target and Features"
   ]
  },
  {
   "cell_type": "code",
   "execution_count": 35,
   "id": "0206beb6-c3a1-4b64-9824-a929ba1ed8db",
   "metadata": {},
   "outputs": [],
   "source": [
    "X = df.drop(labels=['Clicked on Ad'],axis=1)\n",
    "y = np.where(df['Clicked on Ad']=='No',0,1)"
   ]
  },
  {
   "cell_type": "markdown",
   "id": "c2815195-296d-44c6-affa-8a7e0fa44892",
   "metadata": {},
   "source": [
    "### Get Dummies for All Categorical Features"
   ]
  },
  {
   "cell_type": "code",
   "execution_count": 36,
   "id": "3b0b12fd-42c4-4bf4-8317-4c9b4d1fe7d9",
   "metadata": {},
   "outputs": [],
   "source": [
    "X_dummy = pd.get_dummies(X)"
   ]
  },
  {
   "cell_type": "code",
   "execution_count": 37,
   "id": "41987ca6-054e-4d3d-b4ec-d0c171b5edbd",
   "metadata": {},
   "outputs": [
    {
     "data": {
      "text/html": [
       "<div>\n",
       "<style scoped>\n",
       "    .dataframe tbody tr th:only-of-type {\n",
       "        vertical-align: middle;\n",
       "    }\n",
       "\n",
       "    .dataframe tbody tr th {\n",
       "        vertical-align: top;\n",
       "    }\n",
       "\n",
       "    .dataframe thead th {\n",
       "        text-align: right;\n",
       "    }\n",
       "</style>\n",
       "<table border=\"1\" class=\"dataframe\">\n",
       "  <thead>\n",
       "    <tr style=\"text-align: right;\">\n",
       "      <th></th>\n",
       "      <th>Daily Time Spent on Site</th>\n",
       "      <th>Age</th>\n",
       "      <th>Area Income</th>\n",
       "      <th>Daily Internet Usage</th>\n",
       "      <th>day_of_week</th>\n",
       "      <th>day_of_month</th>\n",
       "      <th>month</th>\n",
       "      <th>Ad Topic Line_Adaptive 24hour Graphic Interface</th>\n",
       "      <th>Ad Topic Line_Adaptive asynchronous attitude</th>\n",
       "      <th>Ad Topic Line_Adaptive context-sensitive application</th>\n",
       "      <th>...</th>\n",
       "      <th>Country_Uruguay</th>\n",
       "      <th>Country_Uzbekistan</th>\n",
       "      <th>Country_Vanuatu</th>\n",
       "      <th>Country_Venezuela</th>\n",
       "      <th>Country_Vietnam</th>\n",
       "      <th>Country_Wallis and Futuna</th>\n",
       "      <th>Country_Western Sahara</th>\n",
       "      <th>Country_Yemen</th>\n",
       "      <th>Country_Zambia</th>\n",
       "      <th>Country_Zimbabwe</th>\n",
       "    </tr>\n",
       "  </thead>\n",
       "  <tbody>\n",
       "    <tr>\n",
       "      <th>0</th>\n",
       "      <td>68.950000</td>\n",
       "      <td>35</td>\n",
       "      <td>61833.90</td>\n",
       "      <td>256.09</td>\n",
       "      <td>6</td>\n",
       "      <td>27</td>\n",
       "      <td>3</td>\n",
       "      <td>0</td>\n",
       "      <td>0</td>\n",
       "      <td>0</td>\n",
       "      <td>...</td>\n",
       "      <td>0</td>\n",
       "      <td>0</td>\n",
       "      <td>0</td>\n",
       "      <td>0</td>\n",
       "      <td>0</td>\n",
       "      <td>0</td>\n",
       "      <td>0</td>\n",
       "      <td>0</td>\n",
       "      <td>0</td>\n",
       "      <td>0</td>\n",
       "    </tr>\n",
       "    <tr>\n",
       "      <th>1</th>\n",
       "      <td>80.230000</td>\n",
       "      <td>31</td>\n",
       "      <td>68441.85</td>\n",
       "      <td>193.77</td>\n",
       "      <td>0</td>\n",
       "      <td>4</td>\n",
       "      <td>4</td>\n",
       "      <td>0</td>\n",
       "      <td>0</td>\n",
       "      <td>0</td>\n",
       "      <td>...</td>\n",
       "      <td>0</td>\n",
       "      <td>0</td>\n",
       "      <td>0</td>\n",
       "      <td>0</td>\n",
       "      <td>0</td>\n",
       "      <td>0</td>\n",
       "      <td>0</td>\n",
       "      <td>0</td>\n",
       "      <td>0</td>\n",
       "      <td>0</td>\n",
       "    </tr>\n",
       "    <tr>\n",
       "      <th>2</th>\n",
       "      <td>69.470000</td>\n",
       "      <td>26</td>\n",
       "      <td>59785.94</td>\n",
       "      <td>236.50</td>\n",
       "      <td>6</td>\n",
       "      <td>13</td>\n",
       "      <td>3</td>\n",
       "      <td>0</td>\n",
       "      <td>0</td>\n",
       "      <td>0</td>\n",
       "      <td>...</td>\n",
       "      <td>0</td>\n",
       "      <td>0</td>\n",
       "      <td>0</td>\n",
       "      <td>0</td>\n",
       "      <td>0</td>\n",
       "      <td>0</td>\n",
       "      <td>0</td>\n",
       "      <td>0</td>\n",
       "      <td>0</td>\n",
       "      <td>0</td>\n",
       "    </tr>\n",
       "    <tr>\n",
       "      <th>3</th>\n",
       "      <td>74.150000</td>\n",
       "      <td>29</td>\n",
       "      <td>54806.18</td>\n",
       "      <td>245.89</td>\n",
       "      <td>6</td>\n",
       "      <td>10</td>\n",
       "      <td>1</td>\n",
       "      <td>0</td>\n",
       "      <td>0</td>\n",
       "      <td>0</td>\n",
       "      <td>...</td>\n",
       "      <td>0</td>\n",
       "      <td>0</td>\n",
       "      <td>0</td>\n",
       "      <td>0</td>\n",
       "      <td>0</td>\n",
       "      <td>0</td>\n",
       "      <td>0</td>\n",
       "      <td>0</td>\n",
       "      <td>0</td>\n",
       "      <td>0</td>\n",
       "    </tr>\n",
       "    <tr>\n",
       "      <th>4</th>\n",
       "      <td>68.370000</td>\n",
       "      <td>35</td>\n",
       "      <td>73889.99</td>\n",
       "      <td>225.58</td>\n",
       "      <td>4</td>\n",
       "      <td>3</td>\n",
       "      <td>6</td>\n",
       "      <td>0</td>\n",
       "      <td>0</td>\n",
       "      <td>0</td>\n",
       "      <td>...</td>\n",
       "      <td>0</td>\n",
       "      <td>0</td>\n",
       "      <td>0</td>\n",
       "      <td>0</td>\n",
       "      <td>0</td>\n",
       "      <td>0</td>\n",
       "      <td>0</td>\n",
       "      <td>0</td>\n",
       "      <td>0</td>\n",
       "      <td>0</td>\n",
       "    </tr>\n",
       "    <tr>\n",
       "      <th>...</th>\n",
       "      <td>...</td>\n",
       "      <td>...</td>\n",
       "      <td>...</td>\n",
       "      <td>...</td>\n",
       "      <td>...</td>\n",
       "      <td>...</td>\n",
       "      <td>...</td>\n",
       "      <td>...</td>\n",
       "      <td>...</td>\n",
       "      <td>...</td>\n",
       "      <td>...</td>\n",
       "      <td>...</td>\n",
       "      <td>...</td>\n",
       "      <td>...</td>\n",
       "      <td>...</td>\n",
       "      <td>...</td>\n",
       "      <td>...</td>\n",
       "      <td>...</td>\n",
       "      <td>...</td>\n",
       "      <td>...</td>\n",
       "      <td>...</td>\n",
       "    </tr>\n",
       "    <tr>\n",
       "      <th>995</th>\n",
       "      <td>72.970000</td>\n",
       "      <td>30</td>\n",
       "      <td>71384.57</td>\n",
       "      <td>208.58</td>\n",
       "      <td>3</td>\n",
       "      <td>11</td>\n",
       "      <td>2</td>\n",
       "      <td>0</td>\n",
       "      <td>0</td>\n",
       "      <td>0</td>\n",
       "      <td>...</td>\n",
       "      <td>0</td>\n",
       "      <td>0</td>\n",
       "      <td>0</td>\n",
       "      <td>0</td>\n",
       "      <td>0</td>\n",
       "      <td>0</td>\n",
       "      <td>0</td>\n",
       "      <td>0</td>\n",
       "      <td>0</td>\n",
       "      <td>0</td>\n",
       "    </tr>\n",
       "    <tr>\n",
       "      <th>996</th>\n",
       "      <td>51.300000</td>\n",
       "      <td>45</td>\n",
       "      <td>67782.17</td>\n",
       "      <td>134.42</td>\n",
       "      <td>4</td>\n",
       "      <td>22</td>\n",
       "      <td>4</td>\n",
       "      <td>0</td>\n",
       "      <td>0</td>\n",
       "      <td>0</td>\n",
       "      <td>...</td>\n",
       "      <td>0</td>\n",
       "      <td>0</td>\n",
       "      <td>0</td>\n",
       "      <td>0</td>\n",
       "      <td>0</td>\n",
       "      <td>0</td>\n",
       "      <td>0</td>\n",
       "      <td>0</td>\n",
       "      <td>0</td>\n",
       "      <td>0</td>\n",
       "    </tr>\n",
       "    <tr>\n",
       "      <th>997</th>\n",
       "      <td>64.929524</td>\n",
       "      <td>51</td>\n",
       "      <td>42415.72</td>\n",
       "      <td>120.37</td>\n",
       "      <td>0</td>\n",
       "      <td>1</td>\n",
       "      <td>2</td>\n",
       "      <td>0</td>\n",
       "      <td>0</td>\n",
       "      <td>0</td>\n",
       "      <td>...</td>\n",
       "      <td>0</td>\n",
       "      <td>0</td>\n",
       "      <td>0</td>\n",
       "      <td>0</td>\n",
       "      <td>0</td>\n",
       "      <td>0</td>\n",
       "      <td>0</td>\n",
       "      <td>0</td>\n",
       "      <td>0</td>\n",
       "      <td>0</td>\n",
       "    </tr>\n",
       "    <tr>\n",
       "      <th>998</th>\n",
       "      <td>55.550000</td>\n",
       "      <td>19</td>\n",
       "      <td>41920.79</td>\n",
       "      <td>187.95</td>\n",
       "      <td>3</td>\n",
       "      <td>24</td>\n",
       "      <td>3</td>\n",
       "      <td>0</td>\n",
       "      <td>0</td>\n",
       "      <td>0</td>\n",
       "      <td>...</td>\n",
       "      <td>0</td>\n",
       "      <td>0</td>\n",
       "      <td>0</td>\n",
       "      <td>0</td>\n",
       "      <td>0</td>\n",
       "      <td>0</td>\n",
       "      <td>0</td>\n",
       "      <td>0</td>\n",
       "      <td>0</td>\n",
       "      <td>0</td>\n",
       "    </tr>\n",
       "    <tr>\n",
       "      <th>999</th>\n",
       "      <td>45.010000</td>\n",
       "      <td>26</td>\n",
       "      <td>29875.80</td>\n",
       "      <td>178.35</td>\n",
       "      <td>4</td>\n",
       "      <td>3</td>\n",
       "      <td>6</td>\n",
       "      <td>0</td>\n",
       "      <td>0</td>\n",
       "      <td>0</td>\n",
       "      <td>...</td>\n",
       "      <td>0</td>\n",
       "      <td>0</td>\n",
       "      <td>0</td>\n",
       "      <td>0</td>\n",
       "      <td>0</td>\n",
       "      <td>0</td>\n",
       "      <td>0</td>\n",
       "      <td>0</td>\n",
       "      <td>0</td>\n",
       "      <td>0</td>\n",
       "    </tr>\n",
       "  </tbody>\n",
       "</table>\n",
       "<p>1000 rows × 2214 columns</p>\n",
       "</div>"
      ],
      "text/plain": [
       "     Daily Time Spent on Site  Age  Area Income  Daily Internet Usage  \\\n",
       "0                   68.950000   35     61833.90                256.09   \n",
       "1                   80.230000   31     68441.85                193.77   \n",
       "2                   69.470000   26     59785.94                236.50   \n",
       "3                   74.150000   29     54806.18                245.89   \n",
       "4                   68.370000   35     73889.99                225.58   \n",
       "..                        ...  ...          ...                   ...   \n",
       "995                 72.970000   30     71384.57                208.58   \n",
       "996                 51.300000   45     67782.17                134.42   \n",
       "997                 64.929524   51     42415.72                120.37   \n",
       "998                 55.550000   19     41920.79                187.95   \n",
       "999                 45.010000   26     29875.80                178.35   \n",
       "\n",
       "     day_of_week  day_of_month  month  \\\n",
       "0              6            27      3   \n",
       "1              0             4      4   \n",
       "2              6            13      3   \n",
       "3              6            10      1   \n",
       "4              4             3      6   \n",
       "..           ...           ...    ...   \n",
       "995            3            11      2   \n",
       "996            4            22      4   \n",
       "997            0             1      2   \n",
       "998            3            24      3   \n",
       "999            4             3      6   \n",
       "\n",
       "     Ad Topic Line_Adaptive 24hour Graphic Interface  \\\n",
       "0                                                  0   \n",
       "1                                                  0   \n",
       "2                                                  0   \n",
       "3                                                  0   \n",
       "4                                                  0   \n",
       "..                                               ...   \n",
       "995                                                0   \n",
       "996                                                0   \n",
       "997                                                0   \n",
       "998                                                0   \n",
       "999                                                0   \n",
       "\n",
       "     Ad Topic Line_Adaptive asynchronous attitude  \\\n",
       "0                                               0   \n",
       "1                                               0   \n",
       "2                                               0   \n",
       "3                                               0   \n",
       "4                                               0   \n",
       "..                                            ...   \n",
       "995                                             0   \n",
       "996                                             0   \n",
       "997                                             0   \n",
       "998                                             0   \n",
       "999                                             0   \n",
       "\n",
       "     Ad Topic Line_Adaptive context-sensitive application  ...  \\\n",
       "0                                                    0     ...   \n",
       "1                                                    0     ...   \n",
       "2                                                    0     ...   \n",
       "3                                                    0     ...   \n",
       "4                                                    0     ...   \n",
       "..                                                 ...     ...   \n",
       "995                                                  0     ...   \n",
       "996                                                  0     ...   \n",
       "997                                                  0     ...   \n",
       "998                                                  0     ...   \n",
       "999                                                  0     ...   \n",
       "\n",
       "     Country_Uruguay  Country_Uzbekistan  Country_Vanuatu  Country_Venezuela  \\\n",
       "0                  0                   0                0                  0   \n",
       "1                  0                   0                0                  0   \n",
       "2                  0                   0                0                  0   \n",
       "3                  0                   0                0                  0   \n",
       "4                  0                   0                0                  0   \n",
       "..               ...                 ...              ...                ...   \n",
       "995                0                   0                0                  0   \n",
       "996                0                   0                0                  0   \n",
       "997                0                   0                0                  0   \n",
       "998                0                   0                0                  0   \n",
       "999                0                   0                0                  0   \n",
       "\n",
       "     Country_Vietnam  Country_Wallis and Futuna  Country_Western Sahara  \\\n",
       "0                  0                          0                       0   \n",
       "1                  0                          0                       0   \n",
       "2                  0                          0                       0   \n",
       "3                  0                          0                       0   \n",
       "4                  0                          0                       0   \n",
       "..               ...                        ...                     ...   \n",
       "995                0                          0                       0   \n",
       "996                0                          0                       0   \n",
       "997                0                          0                       0   \n",
       "998                0                          0                       0   \n",
       "999                0                          0                       0   \n",
       "\n",
       "     Country_Yemen  Country_Zambia  Country_Zimbabwe  \n",
       "0                0               0                 0  \n",
       "1                0               0                 0  \n",
       "2                0               0                 0  \n",
       "3                0               0                 0  \n",
       "4                0               0                 0  \n",
       "..             ...             ...               ...  \n",
       "995              0               0                 0  \n",
       "996              0               0                 0  \n",
       "997              0               0                 0  \n",
       "998              0               0                 0  \n",
       "999              0               0                 0  \n",
       "\n",
       "[1000 rows x 2214 columns]"
      ]
     },
     "execution_count": 37,
     "metadata": {},
     "output_type": "execute_result"
    }
   ],
   "source": [
    "X_dummy"
   ]
  },
  {
   "cell_type": "markdown",
   "id": "ba0787f5-dc9b-4a74-a8d6-745a2439a77d",
   "metadata": {},
   "source": [
    "## Build Models"
   ]
  },
  {
   "cell_type": "markdown",
   "id": "321fdcf7-bce1-45da-9ca0-5e6987581a60",
   "metadata": {},
   "source": [
    "The modeling stage comes next, where we create a model with a high level of precision. Since the number of categories on the target we choose is balanced, we will use accuracy metrics.\n",
    "\n",
    "The steps for modeling are as follows:\n",
    "\n",
    "1. Dividing the test and train datasets\n",
    "2. Train employs standard data (Experiment 1)\n",
    "3. Workout with normalization (Experiment 2)"
   ]
  },
  {
   "cell_type": "markdown",
   "id": "a424c387-f962-4430-ad3d-2ac41fcff4c4",
   "metadata": {},
   "source": [
    "### Splitting Train and Test Dataset"
   ]
  },
  {
   "cell_type": "code",
   "execution_count": 38,
   "id": "195d2a20-8bca-4ec3-8044-54d7b520de6e",
   "metadata": {},
   "outputs": [],
   "source": [
    "X_train,X_test,y_train,y_test = train_test_split(X_dummy,y,test_size = 0.3,stratify=y,random_state = 123)"
   ]
  },
  {
   "cell_type": "code",
   "execution_count": 39,
   "id": "904ffbb7-fcd0-4ca1-b0a8-aeabba50b219",
   "metadata": {},
   "outputs": [
    {
     "name": "stdout",
     "output_type": "stream",
     "text": [
      "Dimensi Train: (700, 2214)\n",
      "Dimensi Test: (300, 2214)\n"
     ]
    }
   ],
   "source": [
    "print('Dimensi Train:',X_train.shape)\n",
    "print('Dimensi Test:',X_test.shape)"
   ]
  },
  {
   "cell_type": "code",
   "execution_count": 40,
   "id": "0a0a78c2-adbc-4ac0-8345-290f0d7c4d31",
   "metadata": {},
   "outputs": [],
   "source": [
    "## UDF for experimenting several classification models\n",
    "def experiment(X_train,X_test,y_train,y_test):\n",
    "    \"\"\"\n",
    "    This function want to do an experiment for several models.\n",
    "    We just need data input\n",
    "\n",
    "    Parameter\n",
    "    ---------\n",
    "    X_train = training data contains several features\n",
    "    X_test = testing data contains several features\n",
    "    y_train = train target\n",
    "    y_test = test target\n",
    "    \"\"\"\n",
    "    result = defaultdict(list)\n",
    "    \n",
    "    knn = KNeighborsClassifier()\n",
    "    logreg = LogisticRegression()\n",
    "    dtc = DecisionTreeClassifier()\n",
    "    rf = RandomForestClassifier()\n",
    "    grad = GradientBoostingClassifier()\n",
    "    \n",
    "    list_model = [('K-Nearest Neighbor',knn),\n",
    "                  ('Logistic Regression',logreg),\n",
    "                  ('Decision Tree',dtc),\n",
    "                  ('Random Forest',rf),\n",
    "                  ('Gradient Boosting',grad)\n",
    "                 ]\n",
    "    \n",
    "    for model_name,model in list_model:\n",
    "        start = dt.now()\n",
    "        model.fit(X_train,y_train)\n",
    "        duration = (dt.now()-start).total_seconds()\n",
    "        \n",
    "        y_pred = model.predict(X_test)\n",
    "        \n",
    "        accuracy = accuracy_score(y_test,y_pred)\n",
    "        recall = recall_score(y_test,y_pred)\n",
    "        precision = precision_score(y_test,y_pred)\n",
    "        \n",
    "        result['model_name'].append(model_name)\n",
    "        result['model'].append(model)\n",
    "        result['accuracy'].append(accuracy)\n",
    "        result['recall'].append(recall)\n",
    "        result['precision'].append(precision)\n",
    "        result['duration'].append(duration)\n",
    "        \n",
    "    return result"
   ]
  },
  {
   "cell_type": "markdown",
   "id": "6ce57445-ad57-46f4-96de-b5c638df34b2",
   "metadata": {},
   "source": [
    "### First Experiment"
   ]
  },
  {
   "cell_type": "code",
   "execution_count": 41,
   "id": "3193f8f6-77ef-47b2-849d-04676cca395a",
   "metadata": {},
   "outputs": [],
   "source": [
    "result = experiment(X_train,X_test,y_train,y_test)\n",
    "result = pd.DataFrame(result)"
   ]
  },
  {
   "cell_type": "code",
   "execution_count": 42,
   "id": "38c5b0c7-26fd-4d34-9fe7-6b2ba78caff3",
   "metadata": {},
   "outputs": [
    {
     "data": {
      "text/html": [
       "<div>\n",
       "<style scoped>\n",
       "    .dataframe tbody tr th:only-of-type {\n",
       "        vertical-align: middle;\n",
       "    }\n",
       "\n",
       "    .dataframe tbody tr th {\n",
       "        vertical-align: top;\n",
       "    }\n",
       "\n",
       "    .dataframe thead th {\n",
       "        text-align: right;\n",
       "    }\n",
       "</style>\n",
       "<table border=\"1\" class=\"dataframe\">\n",
       "  <thead>\n",
       "    <tr style=\"text-align: right;\">\n",
       "      <th></th>\n",
       "      <th>model_name</th>\n",
       "      <th>model</th>\n",
       "      <th>accuracy</th>\n",
       "      <th>recall</th>\n",
       "      <th>precision</th>\n",
       "      <th>duration</th>\n",
       "    </tr>\n",
       "  </thead>\n",
       "  <tbody>\n",
       "    <tr>\n",
       "      <th>0</th>\n",
       "      <td>K-Nearest Neighbor</td>\n",
       "      <td>KNeighborsClassifier()</td>\n",
       "      <td>0.743333</td>\n",
       "      <td>0.660000</td>\n",
       "      <td>0.792000</td>\n",
       "      <td>0.040086</td>\n",
       "    </tr>\n",
       "    <tr>\n",
       "      <th>1</th>\n",
       "      <td>Logistic Regression</td>\n",
       "      <td>LogisticRegression()</td>\n",
       "      <td>0.856667</td>\n",
       "      <td>0.793333</td>\n",
       "      <td>0.908397</td>\n",
       "      <td>0.293090</td>\n",
       "    </tr>\n",
       "    <tr>\n",
       "      <th>2</th>\n",
       "      <td>Decision Tree</td>\n",
       "      <td>DecisionTreeClassifier()</td>\n",
       "      <td>0.940000</td>\n",
       "      <td>0.926667</td>\n",
       "      <td>0.952055</td>\n",
       "      <td>0.102962</td>\n",
       "    </tr>\n",
       "    <tr>\n",
       "      <th>3</th>\n",
       "      <td>Random Forest</td>\n",
       "      <td>(DecisionTreeClassifier(max_features='auto', r...</td>\n",
       "      <td>0.950000</td>\n",
       "      <td>0.933333</td>\n",
       "      <td>0.965517</td>\n",
       "      <td>0.930380</td>\n",
       "    </tr>\n",
       "    <tr>\n",
       "      <th>4</th>\n",
       "      <td>Gradient Boosting</td>\n",
       "      <td>([DecisionTreeRegressor(criterion='friedman_ms...</td>\n",
       "      <td>0.936667</td>\n",
       "      <td>0.920000</td>\n",
       "      <td>0.951724</td>\n",
       "      <td>3.258252</td>\n",
       "    </tr>\n",
       "  </tbody>\n",
       "</table>\n",
       "</div>"
      ],
      "text/plain": [
       "            model_name                                              model  \\\n",
       "0   K-Nearest Neighbor                             KNeighborsClassifier()   \n",
       "1  Logistic Regression                               LogisticRegression()   \n",
       "2        Decision Tree                           DecisionTreeClassifier()   \n",
       "3        Random Forest  (DecisionTreeClassifier(max_features='auto', r...   \n",
       "4    Gradient Boosting  ([DecisionTreeRegressor(criterion='friedman_ms...   \n",
       "\n",
       "   accuracy    recall  precision  duration  \n",
       "0  0.743333  0.660000   0.792000  0.040086  \n",
       "1  0.856667  0.793333   0.908397  0.293090  \n",
       "2  0.940000  0.926667   0.952055  0.102962  \n",
       "3  0.950000  0.933333   0.965517  0.930380  \n",
       "4  0.936667  0.920000   0.951724  3.258252  "
      ]
     },
     "execution_count": 42,
     "metadata": {},
     "output_type": "execute_result"
    }
   ],
   "source": [
    "result"
   ]
  },
  {
   "cell_type": "markdown",
   "id": "878a204c-fa90-4149-9ff9-41153ca0992d",
   "metadata": {},
   "source": [
    "The outcome of modeling with default data is as follows (simple preprocessing). The decision tree classifier has the highest accuracy, according to the modeling findings. The random forest, however, is predicated on the highest level of precision. The accuracy obtained from some models, such as logistic regression and k-nearest neighbor, is not very excellent."
   ]
  },
  {
   "cell_type": "markdown",
   "id": "becb3cd0-0d2d-454a-8e33-17fd5e2a6cef",
   "metadata": {},
   "source": [
    "### Second Experiment"
   ]
  },
  {
   "cell_type": "code",
   "execution_count": 43,
   "id": "4534fb40-1ad0-4f68-91c2-35768ae05a3a",
   "metadata": {},
   "outputs": [],
   "source": [
    "from sklearn.preprocessing import MinMaxScaler\n",
    "minmax_scaler = MinMaxScaler()\n",
    "X_train_minmax = minmax_scaler.fit_transform(X_train)\n",
    "X_test_minmax = minmax_scaler.transform(X_test)"
   ]
  },
  {
   "cell_type": "code",
   "execution_count": 44,
   "id": "7b8f70b3-3e73-4bd8-b292-46446b480f06",
   "metadata": {},
   "outputs": [],
   "source": [
    "result2 = experiment(X_train_minmax,X_test_minmax,y_train,y_test)\n",
    "result2 = pd.DataFrame(result2)"
   ]
  },
  {
   "cell_type": "code",
   "execution_count": 45,
   "id": "66f1043f-ef46-447a-ad86-f4e03df068e6",
   "metadata": {},
   "outputs": [
    {
     "data": {
      "text/html": [
       "<div>\n",
       "<style scoped>\n",
       "    .dataframe tbody tr th:only-of-type {\n",
       "        vertical-align: middle;\n",
       "    }\n",
       "\n",
       "    .dataframe tbody tr th {\n",
       "        vertical-align: top;\n",
       "    }\n",
       "\n",
       "    .dataframe thead th {\n",
       "        text-align: right;\n",
       "    }\n",
       "</style>\n",
       "<table border=\"1\" class=\"dataframe\">\n",
       "  <thead>\n",
       "    <tr style=\"text-align: right;\">\n",
       "      <th></th>\n",
       "      <th>model_name</th>\n",
       "      <th>model</th>\n",
       "      <th>accuracy</th>\n",
       "      <th>recall</th>\n",
       "      <th>precision</th>\n",
       "      <th>duration</th>\n",
       "    </tr>\n",
       "  </thead>\n",
       "  <tbody>\n",
       "    <tr>\n",
       "      <th>0</th>\n",
       "      <td>K-Nearest Neighbor</td>\n",
       "      <td>KNeighborsClassifier()</td>\n",
       "      <td>0.760000</td>\n",
       "      <td>0.920000</td>\n",
       "      <td>0.696970</td>\n",
       "      <td>0.004806</td>\n",
       "    </tr>\n",
       "    <tr>\n",
       "      <th>1</th>\n",
       "      <td>Logistic Regression</td>\n",
       "      <td>LogisticRegression()</td>\n",
       "      <td>0.936667</td>\n",
       "      <td>0.886667</td>\n",
       "      <td>0.985185</td>\n",
       "      <td>0.079207</td>\n",
       "    </tr>\n",
       "    <tr>\n",
       "      <th>2</th>\n",
       "      <td>Decision Tree</td>\n",
       "      <td>DecisionTreeClassifier()</td>\n",
       "      <td>0.940000</td>\n",
       "      <td>0.926667</td>\n",
       "      <td>0.952055</td>\n",
       "      <td>0.047035</td>\n",
       "    </tr>\n",
       "    <tr>\n",
       "      <th>3</th>\n",
       "      <td>Random Forest</td>\n",
       "      <td>(DecisionTreeClassifier(max_features='auto', r...</td>\n",
       "      <td>0.950000</td>\n",
       "      <td>0.933333</td>\n",
       "      <td>0.965517</td>\n",
       "      <td>0.869988</td>\n",
       "    </tr>\n",
       "    <tr>\n",
       "      <th>4</th>\n",
       "      <td>Gradient Boosting</td>\n",
       "      <td>([DecisionTreeRegressor(criterion='friedman_ms...</td>\n",
       "      <td>0.933333</td>\n",
       "      <td>0.920000</td>\n",
       "      <td>0.945205</td>\n",
       "      <td>3.194790</td>\n",
       "    </tr>\n",
       "  </tbody>\n",
       "</table>\n",
       "</div>"
      ],
      "text/plain": [
       "            model_name                                              model  \\\n",
       "0   K-Nearest Neighbor                             KNeighborsClassifier()   \n",
       "1  Logistic Regression                               LogisticRegression()   \n",
       "2        Decision Tree                           DecisionTreeClassifier()   \n",
       "3        Random Forest  (DecisionTreeClassifier(max_features='auto', r...   \n",
       "4    Gradient Boosting  ([DecisionTreeRegressor(criterion='friedman_ms...   \n",
       "\n",
       "   accuracy    recall  precision  duration  \n",
       "0  0.760000  0.920000   0.696970  0.004806  \n",
       "1  0.936667  0.886667   0.985185  0.079207  \n",
       "2  0.940000  0.926667   0.952055  0.047035  \n",
       "3  0.950000  0.933333   0.965517  0.869988  \n",
       "4  0.933333  0.920000   0.945205  3.194790  "
      ]
     },
     "execution_count": 45,
     "metadata": {},
     "output_type": "execute_result"
    }
   ],
   "source": [
    "result2"
   ]
  },
  {
   "cell_type": "markdown",
   "id": "3a39c772-dfe3-4dc0-a0b5-4bc0967afc5f",
   "metadata": {},
   "source": [
    "However, based on this approach, we will select a random forest as the best model because it has the most accuracy and precision. After applying the min max scaler, we see considerable gains in numerous models."
   ]
  },
  {
   "cell_type": "markdown",
   "id": "09927abf-83e9-4f78-b467-c92f9e5d42d2",
   "metadata": {},
   "source": [
    "### Evaluation"
   ]
  },
  {
   "cell_type": "code",
   "execution_count": 46,
   "id": "f1a9c444-f9ed-494c-a75f-97240c10ecb4",
   "metadata": {},
   "outputs": [],
   "source": [
    "final_model = result2['model'][3]\n",
    "y_pred = final_model.predict(X_test_minmax)"
   ]
  },
  {
   "cell_type": "code",
   "execution_count": 51,
   "id": "04f1d37a-d0e3-4698-ba05-88d96d07e1cb",
   "metadata": {},
   "outputs": [
    {
     "data": {
      "text/plain": [
       "<Figure size 936x720 with 0 Axes>"
      ]
     },
     "metadata": {},
     "output_type": "display_data"
    },
    {
     "data": {
      "image/png": "[encoded data removed]",
      "text/plain": [
       "<Figure size 432x288 with 2 Axes>"
      ]
     },
     "metadata": {
      "needs_background": "light"
     },
     "output_type": "display_data"
    }
   ],
   "source": [
    "cm = confusion_matrix(y_test,y_pred)\n",
    "\n",
    "disp = ConfusionMatrixDisplay(confusion_matrix=cm,display_labels=final_model.classes_)\n",
    "plt.figure(figsize=(13,10))\n",
    "disp.plot()\n",
    "plt.show()"
   ]
  },
  {
   "cell_type": "markdown",
   "id": "8a3414ae-6ab9-4de2-8cec-edf2793b1b4c",
   "metadata": {},
   "source": [
    "We wish to analyze our model's performance in depth using the random forest model as a foundation.\n",
    "\n",
    "The random forest generates a very effective confusion matrix.\n",
    "\n",
    "We can observe that there is very little prediction error (purple cells). The accuracy, precision, and recall will be good with the findings that follow."
   ]
  },
  {
   "cell_type": "code",
   "execution_count": null,
   "id": "f75ccf5e-0feb-43c4-9473-e56fec4c64c6",
   "metadata": {},
   "outputs": [],
   "source": []
  }
 ],
 "metadata": {
  "kernelspec": {
   "display_name": "Python 3 (ipykernel)",
   "language": "python",
   "name": "python3"
  },
  "language_info": {
   "codemirror_mode": {
    "name": "ipython",
    "version": 3
   },
   "file_extension": ".py",
   "mimetype": "text/x-python",
   "name": "python",
   "nbconvert_exporter": "python",
   "pygments_lexer": "ipython3",
   "version": "3.9.12"
  }
 },
 "nbformat": 4,
 "nbformat_minor": 5
}
